{
 "cells": [
  {
   "cell_type": "markdown",
   "metadata": {},
   "source": [
    "## 1. Load packages"
   ]
  },
  {
   "cell_type": "code",
   "execution_count": 1,
   "metadata": {
    "metadata": {}
   },
   "outputs": [],
   "source": [
    "import duckdb\n",
    "import pandas as pd\n",
    "import matplotlib.pyplot as plt\n",
    "import seaborn as sns\n",
    "import numpy as np"
   ]
  },
  {
   "cell_type": "markdown",
   "metadata": {},
   "source": [
    "## 2. Load data"
   ]
  },
  {
   "cell_type": "code",
   "execution_count": 2,
   "metadata": {
    "metadata": {}
   },
   "outputs": [],
   "source": [
    "data=duckdb.read_parquet(\"/lustre1/project/stg_00079/students/tingting/data/sun/snap2_allfragments/08/openness.parquet\") "
   ]
  },
  {
   "cell_type": "markdown",
   "metadata": {},
   "source": [
    "## 3. Exploration"
   ]
  },
  {
   "cell_type": "code",
   "execution_count": 45,
   "metadata": {},
   "outputs": [
    {
     "data": {
      "text/plain": [
       "┌─────────┬─────────┬─────────┬────────────────────────┐\n",
       "│   chr   │  start  │   end   │        openness        │\n",
       "│ varchar │  int64  │  int64  │         double         │\n",
       "├─────────┼─────────┼─────────┼────────────────────────┤\n",
       "│ chr1    │       0 │     500 │                    0.0 │\n",
       "│ chr1    │     500 │    1000 │                    0.0 │\n",
       "│ chr1    │    1000 │    1500 │                    0.0 │\n",
       "│ chr1    │    1500 │    2000 │                    0.0 │\n",
       "│ chr1    │    2000 │    2500 │                    0.0 │\n",
       "│ chr1    │    2500 │    3000 │                    0.0 │\n",
       "│ chr1    │    3000 │    3500 │                    0.0 │\n",
       "│ chr1    │    3500 │    4000 │                    0.0 │\n",
       "│ chr1    │    4000 │    4500 │                    0.0 │\n",
       "│ chr1    │    4500 │    5000 │                    0.0 │\n",
       "│  ·      │      ·  │      ·  │                     ·  │\n",
       "│  ·      │      ·  │      ·  │                     ·  │\n",
       "│  ·      │      ·  │      ·  │                     ·  │\n",
       "│ chr1    │ 4995000 │ 4995500 │  0.0005059838085181273 │\n",
       "│ chr1    │ 4995500 │ 4996000 │  0.0005059838085181273 │\n",
       "│ chr1    │ 4996000 │ 4996500 │ 0.00024199225624780003 │\n",
       "│ chr1    │ 4996500 │ 4997000 │  0.0005939809926082365 │\n",
       "│ chr1    │ 4997000 │ 4997500 │ 0.00024199225624780006 │\n",
       "│ chr1    │ 4997500 │ 4998000 │  0.0006599788806758183 │\n",
       "│ chr1    │ 4998000 │ 4998500 │ 0.00041798662442801826 │\n",
       "│ chr1    │ 4998500 │ 4999000 │  0.0006819781766983455 │\n",
       "│ chr1    │ 4999000 │ 4999500 │ 0.00030799014431538187 │\n",
       "│ chr1    │ 4999500 │ 5000000 │  0.0004179866244280182 │\n",
       "├─────────┴─────────┴─────────┴────────────────────────┤\n",
       "│ ? rows (>9999 rows, 20 shown)              4 columns │\n",
       "└──────────────────────────────────────────────────────┘"
      ]
     },
     "execution_count": 45,
     "metadata": {},
     "output_type": "execute_result"
    }
   ],
   "source": [
    "data"
   ]
  },
  {
   "cell_type": "code",
   "execution_count": 3,
   "metadata": {
    "metadata": {}
   },
   "outputs": [
    {
     "name": "stdout",
     "output_type": "stream",
     "text": [
      "    chr  start   end  openness\n",
      "0  chr1      0   500       0.0\n",
      "1  chr1    500  1000       0.0\n",
      "2  chr1   1000  1500       0.0\n",
      "3  chr1   1500  2000       0.0\n",
      "4  chr1   2000  2500       0.0\n"
     ]
    }
   ],
   "source": [
    "query = f\"\"\"\n",
    "SELECT * \n",
    "FROM data\n",
    "\"\"\"\n",
    "openness = duckdb.query(query).df()\n",
    "\n",
    "print(openness.head())"
   ]
  },
  {
   "cell_type": "markdown",
   "metadata": {},
   "source": [
    "### 3.1 outliers"
   ]
  },
  {
   "cell_type": "code",
   "execution_count": 47,
   "metadata": {},
   "outputs": [
    {
     "name": "stdout",
     "output_type": "stream",
     "text": [
      "<class 'pandas.core.frame.DataFrame'>\n",
      "RangeIndex: 6062095 entries, 0 to 6062094\n",
      "Data columns (total 4 columns):\n",
      " #   Column    Dtype  \n",
      "---  ------    -----  \n",
      " 0   chr       object \n",
      " 1   start     int64  \n",
      " 2   end       int64  \n",
      " 3   openness  float64\n",
      "dtypes: float64(1), int64(2), object(1)\n",
      "memory usage: 185.0+ MB\n"
     ]
    }
   ],
   "source": [
    "openness.info()"
   ]
  },
  {
   "cell_type": "code",
   "execution_count": 48,
   "metadata": {},
   "outputs": [
    {
     "data": {
      "text/plain": [
       "(6062095, 4)"
      ]
     },
     "execution_count": 48,
     "metadata": {},
     "output_type": "execute_result"
    }
   ],
   "source": [
    "openness.shape"
   ]
  },
  {
   "cell_type": "code",
   "execution_count": 49,
   "metadata": {},
   "outputs": [
    {
     "data": {
      "text/html": [
       "<div>\n",
       "<style scoped>\n",
       "    .dataframe tbody tr th:only-of-type {\n",
       "        vertical-align: middle;\n",
       "    }\n",
       "\n",
       "    .dataframe tbody tr th {\n",
       "        vertical-align: top;\n",
       "    }\n",
       "\n",
       "    .dataframe thead th {\n",
       "        text-align: right;\n",
       "    }\n",
       "</style>\n",
       "<table border=\"1\" class=\"dataframe\">\n",
       "  <thead>\n",
       "    <tr style=\"text-align: right;\">\n",
       "      <th></th>\n",
       "      <th>start</th>\n",
       "      <th>end</th>\n",
       "      <th>openness</th>\n",
       "    </tr>\n",
       "  </thead>\n",
       "  <tbody>\n",
       "    <tr>\n",
       "      <th>count</th>\n",
       "      <td>6.062095e+06</td>\n",
       "      <td>6.062095e+06</td>\n",
       "      <td>6.062095e+06</td>\n",
       "    </tr>\n",
       "    <tr>\n",
       "      <th>mean</th>\n",
       "      <td>7.769376e+07</td>\n",
       "      <td>7.769426e+07</td>\n",
       "      <td>2.379201e-03</td>\n",
       "    </tr>\n",
       "    <tr>\n",
       "      <th>std</th>\n",
       "      <td>5.498636e+07</td>\n",
       "      <td>5.498636e+07</td>\n",
       "      <td>8.797779e-03</td>\n",
       "    </tr>\n",
       "    <tr>\n",
       "      <th>min</th>\n",
       "      <td>0.000000e+00</td>\n",
       "      <td>5.000000e+02</td>\n",
       "      <td>0.000000e+00</td>\n",
       "    </tr>\n",
       "    <tr>\n",
       "      <th>25%</th>\n",
       "      <td>3.294600e+07</td>\n",
       "      <td>3.294650e+07</td>\n",
       "      <td>7.479761e-04</td>\n",
       "    </tr>\n",
       "    <tr>\n",
       "      <th>50%</th>\n",
       "      <td>6.815400e+07</td>\n",
       "      <td>6.815450e+07</td>\n",
       "      <td>1.165963e-03</td>\n",
       "    </tr>\n",
       "    <tr>\n",
       "      <th>75%</th>\n",
       "      <td>1.135490e+08</td>\n",
       "      <td>1.135495e+08</td>\n",
       "      <td>1.693946e-03</td>\n",
       "    </tr>\n",
       "    <tr>\n",
       "      <th>max</th>\n",
       "      <td>2.489560e+08</td>\n",
       "      <td>2.489564e+08</td>\n",
       "      <td>4.679470e-01</td>\n",
       "    </tr>\n",
       "  </tbody>\n",
       "</table>\n",
       "</div>"
      ],
      "text/plain": [
       "              start           end      openness\n",
       "count  6.062095e+06  6.062095e+06  6.062095e+06\n",
       "mean   7.769376e+07  7.769426e+07  2.379201e-03\n",
       "std    5.498636e+07  5.498636e+07  8.797779e-03\n",
       "min    0.000000e+00  5.000000e+02  0.000000e+00\n",
       "25%    3.294600e+07  3.294650e+07  7.479761e-04\n",
       "50%    6.815400e+07  6.815450e+07  1.165963e-03\n",
       "75%    1.135490e+08  1.135495e+08  1.693946e-03\n",
       "max    2.489560e+08  2.489564e+08  4.679470e-01"
      ]
     },
     "execution_count": 49,
     "metadata": {},
     "output_type": "execute_result"
    }
   ],
   "source": [
    "openness.describe()"
   ]
  },
  {
   "cell_type": "code",
   "execution_count": 50,
   "metadata": {},
   "outputs": [
    {
     "name": "stdout",
     "output_type": "stream",
     "text": [
      "          chr      start        end  openness\n",
      "1557     chr1     778500     779000  0.127728\n",
      "1634     chr1     817000     817500  0.050840\n",
      "1654     chr1     827000     827500  0.048838\n",
      "1655     chr1     827500     828000  0.046946\n",
      "1739     chr1     869500     870000  0.035265\n",
      "...       ...        ...        ...       ...\n",
      "6060156  chrX  155071500  155072000  0.048420\n",
      "6060445  chrX  155216000  155216500  0.086787\n",
      "6060446  chrX  155216500  155217000  0.050532\n",
      "6061238  chrX  155612500  155613000  0.042767\n",
      "6061775  chrX  155881000  155881500  0.076668\n",
      "\n",
      "[70109 rows x 4 columns]\n"
     ]
    }
   ],
   "source": [
    "openness_mean = openness['openness'].mean()  \n",
    "openness_std = openness['openness'].std()  \n",
    "outliers = openness['openness'].apply(lambda x: np.abs((x - openness_mean) / openness_std) > 3)\n",
    "# print(openness, \" outliers:\")\n",
    "print(openness[outliers])  \n"
   ]
  },
  {
   "cell_type": "markdown",
   "metadata": {},
   "source": [
    "## 3.2 openness == 0 "
   ]
  },
  {
   "cell_type": "code",
   "execution_count": 4,
   "metadata": {
    "metadata": {}
   },
   "outputs": [],
   "source": [
    "definitely_not_open=openness.loc[openness['openness']==0, :]"
   ]
  },
  {
   "cell_type": "code",
   "execution_count": 5,
   "metadata": {
    "metadata": {}
   },
   "outputs": [
    {
     "data": {
      "text/plain": [
       "(431984, 4)"
      ]
     },
     "execution_count": 5,
     "metadata": {},
     "output_type": "execute_result"
    }
   ],
   "source": [
    "definitely_not_open.shape"
   ]
  },
  {
   "cell_type": "code",
   "execution_count": 6,
   "metadata": {
    "metadata": {}
   },
   "outputs": [
    {
     "data": {
      "text/plain": [
       "0.07125985323555635"
      ]
     },
     "execution_count": 6,
     "metadata": {},
     "output_type": "execute_result"
    }
   ],
   "source": [
    "definitely_not_open.shape[0]/openness.shape[0]"
   ]
  },
  {
   "cell_type": "code",
   "execution_count": 7,
   "metadata": {
    "metadata": {}
   },
   "outputs": [],
   "source": [
    "highly_open=openness.loc[openness['openness']>0.45, :]"
   ]
  },
  {
   "cell_type": "code",
   "execution_count": 8,
   "metadata": {
    "metadata": {}
   },
   "outputs": [
    {
     "data": {
      "text/html": [
       "<div>\n",
       "<style scoped>\n",
       "    .dataframe tbody tr th:only-of-type {\n",
       "        vertical-align: middle;\n",
       "    }\n",
       "\n",
       "    .dataframe tbody tr th {\n",
       "        vertical-align: top;\n",
       "    }\n",
       "\n",
       "    .dataframe thead th {\n",
       "        text-align: right;\n",
       "    }\n",
       "</style>\n",
       "<table border=\"1\" class=\"dataframe\">\n",
       "  <thead>\n",
       "    <tr style=\"text-align: right;\">\n",
       "      <th></th>\n",
       "      <th>chr</th>\n",
       "      <th>start</th>\n",
       "      <th>end</th>\n",
       "      <th>openness</th>\n",
       "    </tr>\n",
       "  </thead>\n",
       "  <tbody>\n",
       "    <tr>\n",
       "      <th>2478714</th>\n",
       "      <td>chr19</td>\n",
       "      <td>10871000</td>\n",
       "      <td>10871500</td>\n",
       "      <td>0.467243</td>\n",
       "    </tr>\n",
       "    <tr>\n",
       "      <th>5387423</th>\n",
       "      <td>chr8</td>\n",
       "      <td>102239000</td>\n",
       "      <td>102239500</td>\n",
       "      <td>0.467947</td>\n",
       "    </tr>\n",
       "  </tbody>\n",
       "</table>\n",
       "</div>"
      ],
      "text/plain": [
       "           chr      start        end  openness\n",
       "2478714  chr19   10871000   10871500  0.467243\n",
       "5387423   chr8  102239000  102239500  0.467947"
      ]
     },
     "execution_count": 8,
     "metadata": {},
     "output_type": "execute_result"
    }
   ],
   "source": [
    "highly_open"
   ]
  },
  {
   "cell_type": "markdown",
   "metadata": {},
   "source": [
    "## 3.3 Vis"
   ]
  },
  {
   "cell_type": "code",
   "execution_count": 56,
   "metadata": {},
   "outputs": [
    {
     "data": {
      "text/plain": [
       "{'whiskers': [<matplotlib.lines.Line2D at 0x152f0c34e330>,\n",
       "  <matplotlib.lines.Line2D at 0x152fe96e6c60>],\n",
       " 'caps': [<matplotlib.lines.Line2D at 0x152f0cda6db0>,\n",
       "  <matplotlib.lines.Line2D at 0x152fd7c10b60>],\n",
       " 'boxes': [<matplotlib.lines.Line2D at 0x152f0c917980>],\n",
       " 'medians': [<matplotlib.lines.Line2D at 0x153000063560>],\n",
       " 'fliers': [<matplotlib.lines.Line2D at 0x152fe95f8e90>],\n",
       " 'means': []}"
      ]
     },
     "execution_count": 56,
     "metadata": {},
     "output_type": "execute_result"
    },
    {
     "data": {
      "image/png": "[encoded data removed]",
      "text/plain": [
       "<Figure size 640x480 with 1 Axes>"
      ]
     },
     "metadata": {},
     "output_type": "display_data"
    }
   ],
   "source": [
    "plt.boxplot(openness['openness'])"
   ]
  },
  {
   "cell_type": "code",
   "execution_count": 9,
   "metadata": {
    "metadata": {}
   },
   "outputs": [
    {
     "data": {
      "image/png": "[encoded data removed]",
      "text/plain": [
       "<Figure size 640x480 with 1 Axes>"
      ]
     },
     "metadata": {},
     "output_type": "display_data"
    }
   ],
   "source": [
    "plt.hist(openness['openness'], bins=np.arange(min(openness['openness']), max(openness['openness']), 0.001)) \n",
    "plt.yscale('log')\n",
    "plt.xlabel('Openness')\n",
    "plt.ylabel('Log Count')\n",
    "plt.title('Distribution of Openness')\n",
    "plt.show()"
   ]
  },
  {
   "cell_type": "markdown",
   "metadata": {},
   "source": [
    "## 4. expanded SNPs"
   ]
  },
  {
   "cell_type": "code",
   "execution_count": 10,
   "metadata": {
    "metadata": {}
   },
   "outputs": [],
   "source": [
    "parquet_file_path=\"/lustre1/project/stg_00079/students/tingting/data/GWAS/020results_expansion/Bellenguez_etal_Stage1_result.expanded.parquet\""
   ]
  },
  {
   "cell_type": "code",
   "execution_count": 11,
   "metadata": {
    "metadata": {}
   },
   "outputs": [],
   "source": [
    "snps=duckdb.read_parquet(parquet_file_path)"
   ]
  },
  {
   "cell_type": "markdown",
   "metadata": {},
   "source": [
    "### 4.1 preprocessing"
   ]
  },
  {
   "cell_type": "code",
   "execution_count": 12,
   "metadata": {
    "metadata": {}
   },
   "outputs": [
    {
     "data": {
      "text/plain": [
       "┌────────────┬───────────┬───────────┬─────────┬──────────┬───┬──────────────┬────────────┬─────────────┬─────────┐\n",
       "│ Chromosome │ start_pos │  snp_pos  │  rsid   │ r_square │ … │ start_pos_AD │ snp_pos_AD │   rsid_AD   │ p_value │\n",
       "│  varchar   │   int64   │   int64   │ varchar │ varchar  │   │    int64     │   int64    │   varchar   │ double  │\n",
       "├────────────┼───────────┼───────────┼─────────┼──────────┼───┼──────────────┼────────────┼─────────────┼─────────┤\n",
       "│ chr10      │  80874308 │  80874309 │ .       │ .        │ … │     80874308 │   80874309 │ rs7923241   │ 0.09999 │\n",
       "│ chr1       │ 169826188 │ 169826189 │ .       │ .        │ … │    169826188 │  169826189 │ rs145942373 │ 0.09999 │\n",
       "│ chr12      │   4625904 │   4625905 │ .       │ .        │ … │      4625904 │    4625905 │ rs12311760  │ 0.09999 │\n",
       "│ chr1       │  80514774 │  80514775 │ .       │ .        │ … │     80514774 │   80514775 │ rs548690190 │ 0.09999 │\n",
       "│ chr16      │  80018548 │  80018549 │ .       │ .        │ … │     80018548 │   80018549 │ rs781409928 │ 0.09999 │\n",
       "│ chr1       │ 188035084 │ 188035085 │ .       │ .        │ … │    188035084 │  188035085 │ rs181598642 │ 0.09999 │\n",
       "│ chr5       │  56995127 │  56995128 │ .       │ .        │ … │     56995127 │   56995128 │ rs12187626  │ 0.09999 │\n",
       "│ chr16      │   4837449 │   4837450 │ .       │ .        │ … │      4837449 │    4837450 │ rs73517010  │ 0.09999 │\n",
       "│ chr2       │ 181034443 │ 181034444 │ .       │ .        │ … │    181034443 │  181034444 │ rs537268014 │ 0.09999 │\n",
       "│ chr6       │  84448673 │  84448674 │ .       │ .        │ … │     84448673 │   84448674 │ rs75549173  │ 0.09999 │\n",
       "├────────────┴───────────┴───────────┴─────────┴──────────┴───┴──────────────┴────────────┴─────────────┴─────────┤\n",
       "│ 10 rows                                                                                    10 columns (9 shown) │\n",
       "└─────────────────────────────────────────────────────────────────────────────────────────────────────────────────┘"
      ]
     },
     "execution_count": 12,
     "metadata": {},
     "output_type": "execute_result"
    }
   ],
   "source": [
    "query=f\"\"\"\n",
    "SELECT * FROM snps LIMIT 10\n",
    "\"\"\"\n",
    "duckdb.query(query)"
   ]
  },
  {
   "cell_type": "code",
   "execution_count": 13,
   "metadata": {
    "metadata": {}
   },
   "outputs": [],
   "source": [
    "query = f\"\"\"\n",
    "SELECT Chromosome,\n",
    "       start_pos,\n",
    "       snp_pos,\n",
    "       rsid,\n",
    "       r_square AS stats\n",
    "FROM snps\n",
    "\n",
    "UNION ALL\n",
    "\n",
    "SELECT Chromosome_AD AS Chromosome, \n",
    "       start_pos_AD AS start_pos, \n",
    "       snp_pos_AD AS snp_pos, \n",
    "       rsid_AD AS rsid, \n",
    "       p_value AS stats\n",
    "FROM snps;\n",
    "\"\"\"\n",
    "\n",
    "snps_long = duckdb.query(query).df()"
   ]
  },
  {
   "cell_type": "code",
   "execution_count": 14,
   "metadata": {
    "metadata": {}
   },
   "outputs": [],
   "source": [
    "# Convert 'stats' to numeric, setting errors='coerce' to handle \".\" values by converting them to NaN\n",
    "snps_long['stats'] = pd.to_numeric(snps_long['stats'], errors='coerce')\n",
    "snps_long['stats'] = np.where(snps_long['stats'] <= 0.1, 0, snps_long['stats']) # 0 lead snp, 1 LD snp\n",
    "snps_long['stats'] = np.where(snps_long['stats'] >= 0.8, 1, snps_long['stats'])"
   ]
  },
  {
   "cell_type": "code",
   "execution_count": 15,
   "metadata": {
    "metadata": {}
   },
   "outputs": [],
   "source": [
    "# Drop rows where 'stats' is NaN (which were originally \".\")\n",
    "snps_long.dropna(subset=['stats'], inplace=True)"
   ]
  },
  {
   "cell_type": "code",
   "execution_count": 16,
   "metadata": {
    "metadata": {}
   },
   "outputs": [
    {
     "data": {
      "text/plain": [
       "1337746"
      ]
     },
     "execution_count": 16,
     "metadata": {},
     "output_type": "execute_result"
    }
   ],
   "source": [
    "sum(snps_long.duplicated())"
   ]
  },
  {
   "cell_type": "code",
   "execution_count": 18,
   "metadata": {
    "metadata": {}
   },
   "outputs": [],
   "source": [
    "snps_long=snps_long.drop_duplicates()"
   ]
  },
  {
   "cell_type": "code",
   "execution_count": 19,
   "metadata": {
    "metadata": {}
   },
   "outputs": [
    {
     "data": {
      "text/plain": [
       "(2873625, 5)"
      ]
     },
     "execution_count": 19,
     "metadata": {},
     "output_type": "execute_result"
    }
   ],
   "source": [
    "snps_long.shape"
   ]
  },
  {
   "cell_type": "code",
   "execution_count": 20,
   "metadata": {
    "metadata": {}
   },
   "outputs": [
    {
     "data": {
      "text/plain": [
       "<duckdb.duckdb.DuckDBPyConnection at 0x1479641cfa30>"
      ]
     },
     "execution_count": 20,
     "metadata": {},
     "output_type": "execute_result"
    }
   ],
   "source": [
    "# load to duckdb\n",
    "duckdb.register('snps_long_view', snps_long)"
   ]
  },
  {
   "cell_type": "code",
   "execution_count": 21,
   "metadata": {
    "metadata": {}
   },
   "outputs": [
    {
     "data": {
      "text/plain": [
       "┌──────────────┐\n",
       "│ count_star() │\n",
       "│    int64     │\n",
       "├──────────────┤\n",
       "│      2873625 │\n",
       "└──────────────┘"
      ]
     },
     "execution_count": 21,
     "metadata": {},
     "output_type": "execute_result"
    }
   ],
   "source": [
    "# 4211371 snps\n",
    "duckdb.query(\"SELECT COUNT(*) FROM snps_long\")"
   ]
  },
  {
   "cell_type": "code",
   "execution_count": 22,
   "metadata": {
    "metadata": {}
   },
   "outputs": [
    {
     "data": {
      "text/plain": [
       "┌──────────────┬────────┐\n",
       "│ count_star() │ stats  │\n",
       "│    int64     │ double │\n",
       "├──────────────┼────────┤\n",
       "│       465207 │    1.0 │\n",
       "│      2408418 │    0.0 │\n",
       "└──────────────┴────────┘"
      ]
     },
     "execution_count": 22,
     "metadata": {},
     "output_type": "execute_result"
    }
   ],
   "source": [
    "duckdb.query(\"SELECT COUNT(*), stats FROM snps_long GROUP BY stats\")"
   ]
  },
  {
   "cell_type": "code",
   "execution_count": 27,
   "metadata": {
    "metadata": {}
   },
   "outputs": [
    {
     "data": {
      "text/plain": [
       "0.16188855539605898"
      ]
     },
     "execution_count": 27,
     "metadata": {},
     "output_type": "execute_result"
    }
   ],
   "source": [
    "465207/2873625"
   ]
  },
  {
   "cell_type": "markdown",
   "metadata": {},
   "source": [
    "### 4.2 Join table"
   ]
  },
  {
   "cell_type": "code",
   "execution_count": 25,
   "metadata": {
    "metadata": {}
   },
   "outputs": [],
   "source": [
    "query=f\"\"\"\n",
    "SELECT\n",
    "    pk.chr,\n",
    "    pk.start,\n",
    "    pk.openness,\n",
    "    s.start_pos,\n",
    "    s.snp_pos,\n",
    "    s.rsid,\n",
    "    s.stats\n",
    "FROM\n",
    "    snps_long s\n",
    "JOIN\n",
    "    data pk ON s.chromosome = pk.chr\n",
    "                      AND s.start_pos BETWEEN pk.start AND pk.start + 500;\n",
    "\"\"\"\n",
    "snps_peaks_joined_table=duckdb.query(query)"
   ]
  },
  {
   "cell_type": "code",
   "execution_count": 70,
   "metadata": {},
   "outputs": [
    {
     "data": {
      "text/plain": [
       "┌─────────┬──────────┬────────────────────────┬───────────┬──────────┬─────────────┬────────┐\n",
       "│   chr   │  start   │        openness        │ start_pos │ snp_pos  │    rsid     │ stats  │\n",
       "│ varchar │  int64   │         double         │   int64   │  int64   │   varchar   │ double │\n",
       "├─────────┼──────────┼────────────────────────┼───────────┼──────────┼─────────────┼────────┤\n",
       "│ chr16   │ 74556500 │   0.001077965505103837 │  74556553 │ 74556554 │ rs548743598 │    0.0 │\n",
       "│ chr16   │ 74815500 │  0.0014739528335093281 │  74815948 │ 74815949 │ rs113352437 │    0.0 │\n",
       "│ chr16   │ 74882500 │  0.0012979584653291091 │  74882570 │ 74882571 │ rs60688374  │    0.0 │\n",
       "│ chr16   │ 74234000 │  0.0005939809926082365 │  74234106 │ 74234107 │ rs188625288 │    0.0 │\n",
       "│ chr16   │ 74514000 │ 0.00046198521647307275 │  74514108 │ 74514109 │ rs6564132   │    0.0 │\n",
       "│ chr16   │ 74985000 │    0.17133051742343325 │  74985456 │ 74985457 │ rs192447056 │    0.0 │\n",
       "│ chr16   │ 74965500 │  0.0006819781766983455 │  74965999 │ 74966000 │ rs4887797   │    0.0 │\n",
       "│ chr16   │ 74519000 │  0.0007039774727208728 │  74519068 │ 74519069 │ rs560606197 │    0.0 │\n",
       "│ chr16   │ 75045500 │   0.002221928898275255 │  75045522 │ 75045523 │ rs112730078 │    0.0 │\n",
       "│ chr16   │ 74835000 │  0.0005059838085181273 │  74835196 │ 74835197 │ rs12597589  │    0.0 │\n",
       "├─────────┴──────────┴────────────────────────┴───────────┴──────────┴─────────────┴────────┤\n",
       "│ 10 rows                                                                         7 columns │\n",
       "└───────────────────────────────────────────────────────────────────────────────────────────┘"
      ]
     },
     "execution_count": 70,
     "metadata": {},
     "output_type": "execute_result"
    }
   ],
   "source": [
    "# stats: 0 lead snp, 1 LD snp\n",
    "query=f\"\"\"\n",
    "SELECT * FROM snps_peaks_joined_table LIMIT 10\n",
    "\"\"\"\n",
    "duckdb.query(query)"
   ]
  },
  {
   "cell_type": "markdown",
   "metadata": {},
   "source": [
    "### 4.3 Write snps_peaks_joined_table"
   ]
  },
  {
   "cell_type": "code",
   "execution_count": 71,
   "metadata": {},
   "outputs": [],
   "source": [
    "query=f\"\"\"\n",
    "COPY snps_peaks_joined_table TO '/lustre1/project/stg_00079/students/tingting/data/sun/snap2_allfragments/08/snps_peaks_joined_table.parquet' (FORMAT PARQUET);\n",
    "\"\"\"\n",
    "\n",
    "duckdb.query(query)"
   ]
  },
  {
   "cell_type": "markdown",
   "metadata": {},
   "source": [
    "## 5. Explore snps_peaks_joined_table"
   ]
  },
  {
   "cell_type": "markdown",
   "metadata": {},
   "source": [
    "### 5.1 Load data"
   ]
  },
  {
   "cell_type": "code",
   "execution_count": 72,
   "metadata": {},
   "outputs": [],
   "source": [
    "snps_peaks_joined_table=duckdb.read_parquet('/lustre1/project/stg_00079/students/tingting/data/sun/snap2_allfragments/08/snps_peaks_joined_table.parquet')"
   ]
  },
  {
   "cell_type": "markdown",
   "metadata": {},
   "source": [
    "### 5.3 Explore"
   ]
  },
  {
   "cell_type": "code",
   "execution_count": 26,
   "metadata": {
    "metadata": {}
   },
   "outputs": [
    {
     "data": {
      "text/plain": [
       "┌──────────────┐\n",
       "│ count_star() │\n",
       "│    int64     │\n",
       "├──────────────┤\n",
       "│      2879317 │\n",
       "└──────────────┘"
      ]
     },
     "execution_count": 26,
     "metadata": {},
     "output_type": "execute_result"
    }
   ],
   "source": [
    "duckdb.query(\"SELECT COUNT(*) FROM snps_peaks_joined_table\")"
   ]
  },
  {
   "cell_type": "code",
   "execution_count": 74,
   "metadata": {},
   "outputs": [
    {
     "data": {
      "text/plain": [
       "┌─────────┬──────────┬───────────────────────┬───────────┬──────────┬─────────────┬────────┐\n",
       "│   chr   │  start   │       openness        │ start_pos │ snp_pos  │    rsid     │ stats  │\n",
       "│ varchar │  int64   │        double         │   int64   │  int64   │   varchar   │ double │\n",
       "├─────────┼──────────┼───────────────────────┼───────────┼──────────┼─────────────┼────────┤\n",
       "│ chr20   │ 44330500 │ 0.0007039774727208729 │  44330662 │ 44330663 │ rs765643886 │    0.0 │\n",
       "│ chr20   │ 43712500 │ 0.0007039774727208729 │  43712707 │ 43712708 │ rs543478907 │    0.0 │\n",
       "│ chr20   │ 43878500 │ 0.0004179866244280182 │  43878927 │ 43878928 │ rs142449666 │    0.0 │\n",
       "│ chr20   │ 44311500 │   0.00879971840901095 │  44311699 │ 44311700 │ rs200080732 │    0.0 │\n",
       "│ chr20   │ 44332500 │ 0.0006819781766983455 │  44332623 │ 44332624 │ rs763598989 │    0.0 │\n",
       "│ chr20   │ 44043000 │ 0.0005719816965857092 │  44043355 │ 44043356 │ rs41333944  │    0.0 │\n",
       "│ chr20   │ 43755500 │ 0.0008799718409010912 │  43755932 │ 43755933 │ rs73280246  │    0.0 │\n",
       "│ chr20   │ 43832500 │ 0.0007039774727208729 │  43832587 │ 43832588 │ rs78855405  │    0.0 │\n",
       "│ chr20   │ 43737500 │ 0.0008799718409010911 │  43737967 │ 43737968 │ rs117950734 │    0.0 │\n",
       "│ chr20   │ 44138500 │ 0.0005279831045406547 │  44138554 │ 44138555 │ rs138692293 │    0.0 │\n",
       "├─────────┴──────────┴───────────────────────┴───────────┴──────────┴─────────────┴────────┤\n",
       "│ 10 rows                                                                        7 columns │\n",
       "└──────────────────────────────────────────────────────────────────────────────────────────┘"
      ]
     },
     "execution_count": 74,
     "metadata": {},
     "output_type": "execute_result"
    }
   ],
   "source": [
    "query=f\"\"\"\n",
    "SELECT * FROM snps_peaks_joined_table LIMIT 10\n",
    "\"\"\"\n",
    "duckdb.query(query)"
   ]
  },
  {
   "cell_type": "code",
   "execution_count": 51,
   "metadata": {},
   "outputs": [
    {
     "data": {
      "text/plain": [
       "┌──────────────┐\n",
       "│ count_star() │\n",
       "│    int64     │\n",
       "├──────────────┤\n",
       "│      4214079 │\n",
       "└──────────────┘"
      ]
     },
     "execution_count": 51,
     "metadata": {},
     "output_type": "execute_result"
    }
   ],
   "source": [
    "query=f\"\"\"\n",
    "SELECT COUNT(*) FROM snps_peaks_joined_table \n",
    "WHERE openness>0\n",
    "\"\"\"\n",
    "duckdb.query(query)"
   ]
  },
  {
   "cell_type": "code",
   "execution_count": 52,
   "metadata": {},
   "outputs": [
    {
     "data": {
      "text/plain": [
       "┌──────────────┐\n",
       "│ count_star() │\n",
       "│    int64     │\n",
       "├──────────────┤\n",
       "│         9652 │\n",
       "└──────────────┘"
      ]
     },
     "execution_count": 52,
     "metadata": {},
     "output_type": "execute_result"
    }
   ],
   "source": [
    "query=f\"\"\"\n",
    "SELECT COUNT(*) FROM snps_peaks_joined_table \n",
    "WHERE openness>0.1\n",
    "\"\"\"\n",
    "duckdb.query(query)"
   ]
  },
  {
   "cell_type": "code",
   "execution_count": null,
   "metadata": {},
   "outputs": [],
   "source": []
  }
 ],
 "metadata": {
  "kernelspec": {
   "display_name": "scenic2",
   "language": "python",
   "name": "scenic2"
  },
  "language_info": {
   "codemirror_mode": {
    "name": "ipython",
    "version": 3
   },
   "file_extension": ".py",
   "mimetype": "text/x-python",
   "name": "python",
   "nbconvert_exporter": "python",
   "pygments_lexer": "ipython3",
   "version": "3.11.9"
  }
 },
 "nbformat": 4,
 "nbformat_minor": 2
}
