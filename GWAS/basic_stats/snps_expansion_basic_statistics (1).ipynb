{
 "cells": [
  {
   "cell_type": "markdown",
   "metadata": {},
   "source": [
    "## Load packages"
   ]
  },
  {
   "cell_type": "code",
   "execution_count": 1,
   "metadata": {},
   "outputs": [],
   "source": [
    "import duckdb\n",
    "import pandas as pd\n",
    "import matplotlib.pyplot as plt\n",
    "import seaborn as sns\n",
    "import numpy as np\n",
    "import pickle"
   ]
  },
  {
   "cell_type": "markdown",
   "metadata": {},
   "source": [
    "## Read data"
   ]
  },
  {
   "cell_type": "code",
   "execution_count": 2,
   "metadata": {},
   "outputs": [],
   "source": [
    "dar_markers=pickle.load(open('/data/leuven/351/vsc35107/lustre1_stt/data/sun/snap2_allfragments/08/Analysis_fisher_functional/data/DAR_markers_AD_dict.pkl', 'rb'))"
   ]
  },
  {
   "cell_type": "code",
   "execution_count": 3,
   "metadata": {},
   "outputs": [
    {
     "data": {
      "text/plain": [
       "<duckdb.duckdb.DuckDBPyConnection at 0x14e4cc0287b0>"
      ]
     },
     "execution_count": 3,
     "metadata": {},
     "output_type": "execute_result"
    }
   ],
   "source": [
    "concatenated_df = pd.concat(\n",
    "    [df.assign(key=key) for key, df in dar_markers.items()],\n",
    "    ignore_index=False\n",
    ")\n",
    "concatenated_df = concatenated_df.reset_index()\n",
    "concatenated_df[['chr', 'start', 'end']] = concatenated_df['index'].str.split(':|-', expand=True)\n",
    "concatenated_df['start'] = concatenated_df['start'].astype(int)\n",
    "concatenated_df['end'] = concatenated_df['end'].astype(int)\n",
    "\n",
    "concatenated_df = concatenated_df.drop(columns=['index'])\n",
    "concatenated_df['start'] = concatenated_df['start'].astype(int)\n",
    "concatenated_df['end'] = concatenated_df['end'].astype(int)\n",
    "concatenated_df = concatenated_df[['chr', 'start', 'end'] + [col for col in concatenated_df.columns if col not in ['chr', 'start', 'end']]]\n",
    "duckdb.register('peaks', concatenated_df)"
   ]
  },
  {
   "cell_type": "code",
   "execution_count": 2,
   "metadata": {},
   "outputs": [],
   "source": [
    "## SNPs\n",
    "parquet_file_path=\"/lustre1/project/stg_00079/students/tingting/data/GWAS/020results_expansion/Bellenguez_etal_Stage1_result_hg38_unique.parquet\"\n",
    "snps=duckdb.read_parquet(parquet_file_path)"
   ]
  },
  {
   "cell_type": "code",
   "execution_count": 3,
   "metadata": {},
   "outputs": [
    {
     "data": {
      "application/vnd.jupyter.widget-view+json": {
       "model_id": "4ba3dbfbe49d4a3cbb7752d6c43be7f0",
       "version_major": 2,
       "version_minor": 0
      },
      "text/plain": [
       "FloatProgress(value=0.0, layout=Layout(width='auto'), style=ProgressStyle(bar_color='black'))"
      ]
     },
     "metadata": {},
     "output_type": "display_data"
    },
    {
     "data": {
      "text/plain": [
       "┌──────────────┐\n",
       "│ count_star() │\n",
       "│    int64     │\n",
       "├──────────────┤\n",
       "│     17367912 │\n",
       "└──────────────┘"
      ]
     },
     "execution_count": 3,
     "metadata": {},
     "output_type": "execute_result"
    }
   ],
   "source": [
    "query=f\"\"\"\n",
    "SELECT count(*) from snps\n",
    "WHERE score >= 0.8\n",
    "AND snp != '.'\n",
    "\"\"\"\n",
    "duckdb.query(query)"
   ]
  },
  {
   "cell_type": "code",
   "execution_count": 4,
   "metadata": {},
   "outputs": [
    {
     "data": {
      "application/vnd.jupyter.widget-view+json": {
       "model_id": "a3fc1844ce104110a555083ad26a29ac",
       "version_major": 2,
       "version_minor": 0
      },
      "text/plain": [
       "FloatProgress(value=0.0, layout=Layout(width='auto'), style=ProgressStyle(bar_color='black'))"
      ]
     },
     "metadata": {},
     "output_type": "display_data"
    },
    {
     "data": {
      "text/plain": [
       "┌──────────────┐\n",
       "│ count_star() │\n",
       "│    int64     │\n",
       "├──────────────┤\n",
       "│     18052799 │\n",
       "└──────────────┘"
      ]
     },
     "execution_count": 4,
     "metadata": {},
     "output_type": "execute_result"
    }
   ],
   "source": [
    "query=f\"\"\"\n",
    "SELECT count(*) from snps\n",
    "WHERE score <= 0.1\n",
    "AND snp != '.'\n",
    "\"\"\"\n",
    "duckdb.query(query)"
   ]
  },
  {
   "cell_type": "code",
   "execution_count": 5,
   "metadata": {},
   "outputs": [
    {
     "data": {
      "application/vnd.jupyter.widget-view+json": {
       "model_id": "a4f4095705384ab2b586d7b0dace5c52",
       "version_major": 2,
       "version_minor": 0
      },
      "text/plain": [
       "FloatProgress(value=0.0, layout=Layout(width='auto'), style=ProgressStyle(bar_color='black'))"
      ]
     },
     "metadata": {},
     "output_type": "display_data"
    },
    {
     "data": {
      "text/plain": [
       "┌──────────────┐\n",
       "│ count_star() │\n",
       "│    int64     │\n",
       "├──────────────┤\n",
       "│     35420711 │\n",
       "└──────────────┘"
      ]
     },
     "execution_count": 5,
     "metadata": {},
     "output_type": "execute_result"
    }
   ],
   "source": [
    "query=f\"\"\"\n",
    "SELECT count(*) from snps\n",
    "WHERE snp != '.'\n",
    "\"\"\"\n",
    "duckdb.query(query)"
   ]
  },
  {
   "cell_type": "code",
   "execution_count": 6,
   "metadata": {},
   "outputs": [
    {
     "data": {
      "text/plain": [
       "0.5096678889365038"
      ]
     },
     "execution_count": 6,
     "metadata": {},
     "output_type": "execute_result"
    }
   ],
   "source": [
    "18052799/35420711"
   ]
  },
  {
   "cell_type": "code",
   "execution_count": 7,
   "metadata": {},
   "outputs": [
    {
     "data": {
      "text/plain": [
       "0.49033211106349617"
      ]
     },
     "execution_count": 7,
     "metadata": {},
     "output_type": "execute_result"
    }
   ],
   "source": [
    "17367912/35420711"
   ]
  },
  {
   "cell_type": "code",
   "execution_count": 9,
   "metadata": {},
   "outputs": [
    {
     "data": {
      "application/vnd.jupyter.widget-view+json": {
       "model_id": "ebaa7ed5149c42aa98e6f42a076237db",
       "version_major": 2,
       "version_minor": 0
      },
      "text/plain": [
       "FloatProgress(value=0.0, layout=Layout(width='auto'), style=ProgressStyle(bar_color='black'))"
      ]
     },
     "metadata": {},
     "output_type": "display_data"
    },
    {
     "data": {
      "text/plain": [
       "┌─────────┬───────────┬───────────┬───────────┬──────────┬────────────────────────────┐\n",
       "│  chrom  │   start   │    end    │    snp    │  score   │          relation          │\n",
       "│ varchar │   int64   │   int64   │  varchar  │  double  │          varchar           │\n",
       "├─────────┼───────────┼───────────┼───────────┼──────────┼────────────────────────────┤\n",
       "│ chr1    │ 100001395 │ 100001396 │ rs2149190 │ 0.855976 │ Lead_rs75322434_rs2149190  │\n",
       "│ chr1    │ 100001395 │ 100001396 │ rs2149190 │  0.89042 │ Lead_rs115135282_rs2149190 │\n",
       "│ chr1    │ 100001395 │ 100001396 │ rs2149190 │  0.89042 │ Lead_rs146773872_rs2149190 │\n",
       "│ chr1    │ 100001395 │ 100001396 │ rs2149190 │  0.89042 │ Lead_rs78826581_rs2149190  │\n",
       "│ chr1    │ 100001395 │ 100001396 │ rs2149190 │ 0.911001 │ Lead_rs115312539_rs2149190 │\n",
       "└─────────┴───────────┴───────────┴───────────┴──────────┴────────────────────────────┘"
      ]
     },
     "execution_count": 9,
     "metadata": {},
     "output_type": "execute_result"
    }
   ],
   "source": [
    "query=f\"\"\"\n",
    "SELECT * from snps\n",
    "WHERE snp == 'rs2149190'\n",
    "\"\"\"\n",
    "duckdb.query(query)"
   ]
  },
  {
   "cell_type": "code",
   "execution_count": 10,
   "metadata": {},
   "outputs": [
    {
     "data": {
      "application/vnd.jupyter.widget-view+json": {
       "model_id": "d1176c9cd7c548ef9067c034c661cb7a",
       "version_major": 2,
       "version_minor": 0
      },
      "text/plain": [
       "FloatProgress(value=0.0, layout=Layout(width='auto'), style=ProgressStyle(bar_color='black'))"
      ]
     },
     "metadata": {},
     "output_type": "display_data"
    },
    {
     "data": {
      "text/plain": [
       "┌─────────┬───────────┬───────────┬─────────────┬──────────┬──────────────────────────────┐\n",
       "│  chrom  │   start   │    end    │     snp     │  score   │           relation           │\n",
       "│ varchar │   int64   │   int64   │   varchar   │  double  │           varchar            │\n",
       "├─────────┼───────────┼───────────┼─────────────┼──────────┼──────────────────────────────┤\n",
       "│ chr1    │ 100290695 │ 100290696 │ rs115135282 │  0.07757 │ Lead_rs115135282_rs10875279  │\n",
       "│ chr1    │ 100290695 │ 100290696 │ rs115135282 │  0.07757 │ Lead_rs115135282_rs10875280  │\n",
       "│ chr1    │ 100290695 │ 100290696 │ rs115135282 │  0.07757 │ Lead_rs115135282_rs11166387  │\n",
       "│ chr1    │ 100290695 │ 100290696 │ rs115135282 │  0.07757 │ Lead_rs115135282_rs11166388  │\n",
       "│ chr1    │ 100290695 │ 100290696 │ rs115135282 │  0.07757 │ Lead_rs115135282_rs11166391  │\n",
       "│ chr1    │ 100290695 │ 100290696 │ rs115135282 │  0.07757 │ Lead_rs115135282_rs11166392  │\n",
       "│ chr1    │ 100290695 │ 100290696 │ rs115135282 │  0.07757 │ Lead_rs115135282_rs11166393  │\n",
       "│ chr1    │ 100290695 │ 100290696 │ rs115135282 │  0.07757 │ Lead_rs115135282_rs11166395  │\n",
       "│ chr1    │ 100290695 │ 100290696 │ rs115135282 │  0.07757 │ Lead_rs115135282_rs11166396  │\n",
       "│ chr1    │ 100290695 │ 100290696 │ rs115135282 │  0.07757 │ Lead_rs115135282_rs11166419  │\n",
       "│  ·      │     ·     │     ·     │      ·      │     ·    │              ·               │\n",
       "│  ·      │     ·     │     ·     │      ·      │     ·    │              ·               │\n",
       "│  ·      │     ·     │     ·     │      ·      │     ·    │              ·               │\n",
       "│ chr1    │ 100290695 │ 100290696 │ rs115135282 │  0.07757 │ Lead_rs115135282_rs76488765  │\n",
       "│ chr1    │ 100290695 │ 100290696 │ rs115135282 │  0.07757 │ Lead_rs115135282_rs77590415  │\n",
       "│ chr1    │ 100290695 │ 100290696 │ rs115135282 │  0.07757 │ Lead_rs115135282_rs78469012  │\n",
       "│ chr1    │ 100290695 │ 100290696 │ rs115135282 │  0.07757 │ Lead_rs115135282_rs78826581  │\n",
       "│ chr1    │ 100290695 │ 100290696 │ rs115135282 │  0.07757 │ Lead_rs115135282_rs79167992  │\n",
       "│ chr1    │ 100290695 │ 100290696 │ rs115135282 │  0.07757 │ Lead_rs115135282_rs877245    │\n",
       "│ chr1    │ 100290695 │ 100290696 │ rs115135282 │ 0.958927 │ Lead_rs75322434_rs115135282  │\n",
       "│ chr1    │ 100290695 │ 100290696 │ rs115135282 │ 0.977678 │ Lead_rs115312539_rs115135282 │\n",
       "│ chr1    │ 100290695 │ 100290696 │ rs115135282 │      1.0 │ Lead_rs146773872_rs115135282 │\n",
       "│ chr1    │ 100290695 │ 100290696 │ rs115135282 │      1.0 │ Lead_rs78826581_rs115135282  │\n",
       "├─────────┴───────────┴───────────┴─────────────┴──────────┴──────────────────────────────┤\n",
       "│ 72 rows (20 shown)                                                            6 columns │\n",
       "└─────────────────────────────────────────────────────────────────────────────────────────┘"
      ]
     },
     "execution_count": 10,
     "metadata": {},
     "output_type": "execute_result"
    }
   ],
   "source": [
    "query=f\"\"\"\n",
    "SELECT * from snps\n",
    "WHERE snp == 'rs115135282'\n",
    "\"\"\"\n",
    "duckdb.query(query)"
   ]
  },
  {
   "cell_type": "markdown",
   "metadata": {},
   "source": [
    "__different lead but same buddies__\n",
    "\n",
    "__same lead but different buddies__ in this case, the SNPs will be over estimated"
   ]
  },
  {
   "cell_type": "code",
   "execution_count": 5,
   "metadata": {},
   "outputs": [
    {
     "data": {
      "application/vnd.jupyter.widget-view+json": {
       "model_id": "3c80d71431574ba99aab51b78950e212",
       "version_major": 2,
       "version_minor": 0
      },
      "text/plain": [
       "FloatProgress(value=0.0, layout=Layout(width='auto'), style=ProgressStyle(bar_color='black'))"
      ]
     },
     "metadata": {},
     "output_type": "display_data"
    }
   ],
   "source": [
    "query=f\"\"\"\n",
    "SELECT * from snps\n",
    "\"\"\"\n",
    "snps_df=duckdb.query(query).df()"
   ]
  },
  {
   "cell_type": "code",
   "execution_count": 6,
   "metadata": {},
   "outputs": [
    {
     "data": {
      "text/html": [
       "<div>\n",
       "<style scoped>\n",
       "    .dataframe tbody tr th:only-of-type {\n",
       "        vertical-align: middle;\n",
       "    }\n",
       "\n",
       "    .dataframe tbody tr th {\n",
       "        vertical-align: top;\n",
       "    }\n",
       "\n",
       "    .dataframe thead th {\n",
       "        text-align: right;\n",
       "    }\n",
       "</style>\n",
       "<table border=\"1\" class=\"dataframe\">\n",
       "  <thead>\n",
       "    <tr style=\"text-align: right;\">\n",
       "      <th></th>\n",
       "      <th>chrom</th>\n",
       "      <th>start</th>\n",
       "      <th>end</th>\n",
       "      <th>snp</th>\n",
       "      <th>score</th>\n",
       "      <th>relation</th>\n",
       "    </tr>\n",
       "  </thead>\n",
       "  <tbody>\n",
       "    <tr>\n",
       "      <th>0</th>\n",
       "      <td>chr1</td>\n",
       "      <td>100001395</td>\n",
       "      <td>100001396</td>\n",
       "      <td>rs2149190</td>\n",
       "      <td>0.855976</td>\n",
       "      <td>Lead_rs75322434_rs2149190</td>\n",
       "    </tr>\n",
       "    <tr>\n",
       "      <th>1</th>\n",
       "      <td>chr1</td>\n",
       "      <td>100001395</td>\n",
       "      <td>100001396</td>\n",
       "      <td>rs2149190</td>\n",
       "      <td>0.890420</td>\n",
       "      <td>Lead_rs115135282_rs2149190</td>\n",
       "    </tr>\n",
       "    <tr>\n",
       "      <th>2</th>\n",
       "      <td>chr1</td>\n",
       "      <td>100001395</td>\n",
       "      <td>100001396</td>\n",
       "      <td>rs2149190</td>\n",
       "      <td>0.890420</td>\n",
       "      <td>Lead_rs146773872_rs2149190</td>\n",
       "    </tr>\n",
       "    <tr>\n",
       "      <th>3</th>\n",
       "      <td>chr1</td>\n",
       "      <td>100001395</td>\n",
       "      <td>100001396</td>\n",
       "      <td>rs2149190</td>\n",
       "      <td>0.890420</td>\n",
       "      <td>Lead_rs78826581_rs2149190</td>\n",
       "    </tr>\n",
       "    <tr>\n",
       "      <th>4</th>\n",
       "      <td>chr1</td>\n",
       "      <td>100001395</td>\n",
       "      <td>100001396</td>\n",
       "      <td>rs2149190</td>\n",
       "      <td>0.911001</td>\n",
       "      <td>Lead_rs115312539_rs2149190</td>\n",
       "    </tr>\n",
       "  </tbody>\n",
       "</table>\n",
       "</div>"
      ],
      "text/plain": [
       "  chrom      start        end        snp     score                    relation\n",
       "0  chr1  100001395  100001396  rs2149190  0.855976   Lead_rs75322434_rs2149190\n",
       "1  chr1  100001395  100001396  rs2149190  0.890420  Lead_rs115135282_rs2149190\n",
       "2  chr1  100001395  100001396  rs2149190  0.890420  Lead_rs146773872_rs2149190\n",
       "3  chr1  100001395  100001396  rs2149190  0.890420   Lead_rs78826581_rs2149190\n",
       "4  chr1  100001395  100001396  rs2149190  0.911001  Lead_rs115312539_rs2149190"
      ]
     },
     "execution_count": 6,
     "metadata": {},
     "output_type": "execute_result"
    }
   ],
   "source": [
    "snps_df.head()"
   ]
  },
  {
   "cell_type": "code",
   "execution_count": 14,
   "metadata": {},
   "outputs": [
    {
     "data": {
      "text/plain": [
       "(18556778, 6)"
      ]
     },
     "execution_count": 14,
     "metadata": {},
     "output_type": "execute_result"
    }
   ],
   "source": [
    "snps_df[snps_df.score>=0.8].shape"
   ]
  },
  {
   "cell_type": "code",
   "execution_count": 15,
   "metadata": {},
   "outputs": [
    {
     "data": {
      "text/plain": [
       "(18052799, 6)"
      ]
     },
     "execution_count": 15,
     "metadata": {},
     "output_type": "execute_result"
    }
   ],
   "source": [
    "snps_df[snps_df.score<=0.1].shape"
   ]
  },
  {
   "cell_type": "code",
   "execution_count": 16,
   "metadata": {},
   "outputs": [
    {
     "data": {
      "text/plain": [
       "36609577"
      ]
     },
     "execution_count": 16,
     "metadata": {},
     "output_type": "execute_result"
    }
   ],
   "source": [
    "18556778+18052799"
   ]
  },
  {
   "cell_type": "code",
   "execution_count": 9,
   "metadata": {},
   "outputs": [
    {
     "data": {
      "text/plain": [
       "(36609577, 6)"
      ]
     },
     "execution_count": 9,
     "metadata": {},
     "output_type": "execute_result"
    }
   ],
   "source": [
    "snps_df.shape"
   ]
  },
  {
   "cell_type": "code",
   "execution_count": 10,
   "metadata": {},
   "outputs": [
    {
     "name": "stdout",
     "output_type": "stream",
     "text": [
      "0\n"
     ]
    }
   ],
   "source": [
    "print(sum(snps_df.duplicated()))"
   ]
  },
  {
   "cell_type": "code",
   "execution_count": 18,
   "metadata": {},
   "outputs": [
    {
     "data": {
      "text/plain": [
       "0.5068831579234034"
      ]
     },
     "execution_count": 18,
     "metadata": {},
     "output_type": "execute_result"
    }
   ],
   "source": [
    "18556778/36609577"
   ]
  },
  {
   "cell_type": "code",
   "execution_count": 1,
   "metadata": {},
   "outputs": [
    {
     "data": {
      "text/plain": [
       "0.4931168420765965"
      ]
     },
     "execution_count": 1,
     "metadata": {},
     "output_type": "execute_result"
    }
   ],
   "source": [
    "18052799/36609577"
   ]
  }
 ],
 "metadata": {
  "kernelspec": {
   "display_name": "master",
   "language": "python",
   "name": "master"
  },
  "language_info": {
   "codemirror_mode": {
    "name": "ipython",
    "version": 3
   },
   "file_extension": ".py",
   "mimetype": "text/x-python",
   "name": "python",
   "nbconvert_exporter": "python",
   "pygments_lexer": "ipython3",
   "version": "3.8.18"
  }
 },
 "nbformat": 4,
 "nbformat_minor": 2
}
