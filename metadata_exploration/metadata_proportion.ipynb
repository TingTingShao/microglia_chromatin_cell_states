{
 "cells": [
  {
   "cell_type": "markdown",
   "metadata": {},
   "source": [
    "## 1. load packages"
   ]
  },
  {
   "cell_type": "code",
   "execution_count": 1,
   "metadata": {
    "metadata": {},
    "vscode": {
     "languageId": "r"
    }
   },
   "outputs": [
    {
     "name": "stderr",
     "output_type": "stream",
     "text": [
      "\n",
      "Attaching package: ‘rstatix’\n",
      "\n",
      "\n",
      "The following object is masked from ‘package:stats’:\n",
      "\n",
      "    filter\n",
      "\n",
      "\n",
      "\n",
      "Attaching package: ‘dplyr’\n",
      "\n",
      "\n",
      "The following objects are masked from ‘package:stats’:\n",
      "\n",
      "    filter, lag\n",
      "\n",
      "\n",
      "The following objects are masked from ‘package:base’:\n",
      "\n",
      "    intersect, setdiff, setequal, union\n",
      "\n",
      "\n"
     ]
    }
   ],
   "source": [
    "library(speckle)\n",
    "library(limma)\n",
    "library(ggplot2)\n",
    "library(ggpubr)\n",
    "library(rstatix)\n",
    "library(dplyr)\n",
    "library(tidyr)\n"
   ]
  },
  {
   "cell_type": "markdown",
   "metadata": {},
   "source": [
    "## 2. Load data"
   ]
  },
  {
   "cell_type": "code",
   "execution_count": 2,
   "metadata": {
    "metadata": {},
    "vscode": {
     "languageId": "r"
    }
   },
   "outputs": [],
   "source": [
    "meta <- read.table('/data/leuven/351/vsc35107/lustre1_stt/database/metadata/atac_metadata_cleaned.csv', sep=',', head=TRUE)"
   ]
  },
  {
   "cell_type": "code",
   "execution_count": 2,
   "metadata": {
    "vscode": {
     "languageId": "r"
    }
   },
   "outputs": [
    {
     "data": {
      "text/html": [
       "<table class=\"dataframe\">\n",
       "<caption>A data.frame: 6 × 11</caption>\n",
       "<thead>\n",
       "\t<tr><th></th><th scope=col>X</th><th scope=col>subject</th><th scope=col>SampID</th><th scope=col>region</th><th scope=col>age_death</th><th scope=col>msex</th><th scope=col>pmi</th><th scope=col>ADdiag2types</th><th scope=col>ADdiag3types</th><th scope=col>min_frag</th><th scope=col>num_cell</th></tr>\n",
       "\t<tr><th></th><th scope=col>&lt;int&gt;</th><th scope=col>&lt;chr&gt;</th><th scope=col>&lt;chr&gt;</th><th scope=col>&lt;chr&gt;</th><th scope=col>&lt;int&gt;</th><th scope=col>&lt;chr&gt;</th><th scope=col>&lt;int&gt;</th><th scope=col>&lt;chr&gt;</th><th scope=col>&lt;chr&gt;</th><th scope=col>&lt;dbl&gt;</th><th scope=col>&lt;dbl&gt;</th></tr>\n",
       "</thead>\n",
       "<tbody>\n",
       "\t<tr><th scope=row>1</th><td>0</td><td>ROSMAP-86126</td><td>D19-122585</td><td>EC</td><td>86</td><td>Male  </td><td>6</td><td>AD   </td><td>earlyAD</td><td>1084</td><td>156</td></tr>\n",
       "\t<tr><th scope=row>2</th><td>1</td><td>ROSMAP-50941</td><td>D19-122586</td><td>EC</td><td>89</td><td>Female</td><td>7</td><td>AD   </td><td>lateAD </td><td>1000</td><td>120</td></tr>\n",
       "\t<tr><th scope=row>3</th><td>2</td><td>ROSMAP-32686</td><td>D19-122587</td><td>EC</td><td>80</td><td>Female</td><td>6</td><td>AD   </td><td>earlyAD</td><td>1076</td><td>131</td></tr>\n",
       "\t<tr><th scope=row>4</th><td>3</td><td>ROSMAP-67634</td><td>D19-122588</td><td>EC</td><td>92</td><td>Male  </td><td>7</td><td>nonAD</td><td>nonAD  </td><td>1351</td><td> 79</td></tr>\n",
       "\t<tr><th scope=row>5</th><td>4</td><td>ROSMAP-79151</td><td>D19-122589</td><td>EC</td><td>76</td><td>Male  </td><td>6</td><td>AD   </td><td>lateAD </td><td>1553</td><td> 15</td></tr>\n",
       "\t<tr><th scope=row>6</th><td>5</td><td>ROSMAP-52212</td><td>D19-122590</td><td>EC</td><td>88</td><td>Male  </td><td>6</td><td>nonAD</td><td>nonAD  </td><td>4138</td><td>  7</td></tr>\n",
       "</tbody>\n",
       "</table>\n"
      ],
      "text/latex": [
       "A data.frame: 6 × 11\n",
       "\\begin{tabular}{r|lllllllllll}\n",
       "  & X & subject & SampID & region & age\\_death & msex & pmi & ADdiag2types & ADdiag3types & min\\_frag & num\\_cell\\\\\n",
       "  & <int> & <chr> & <chr> & <chr> & <int> & <chr> & <int> & <chr> & <chr> & <dbl> & <dbl>\\\\\n",
       "\\hline\n",
       "\t1 & 0 & ROSMAP-86126 & D19-122585 & EC & 86 & Male   & 6 & AD    & earlyAD & 1084 & 156\\\\\n",
       "\t2 & 1 & ROSMAP-50941 & D19-122586 & EC & 89 & Female & 7 & AD    & lateAD  & 1000 & 120\\\\\n",
       "\t3 & 2 & ROSMAP-32686 & D19-122587 & EC & 80 & Female & 6 & AD    & earlyAD & 1076 & 131\\\\\n",
       "\t4 & 3 & ROSMAP-67634 & D19-122588 & EC & 92 & Male   & 7 & nonAD & nonAD   & 1351 &  79\\\\\n",
       "\t5 & 4 & ROSMAP-79151 & D19-122589 & EC & 76 & Male   & 6 & AD    & lateAD  & 1553 &  15\\\\\n",
       "\t6 & 5 & ROSMAP-52212 & D19-122590 & EC & 88 & Male   & 6 & nonAD & nonAD   & 4138 &   7\\\\\n",
       "\\end{tabular}\n"
      ],
      "text/markdown": [
       "\n",
       "A data.frame: 6 × 11\n",
       "\n",
       "| <!--/--> | X &lt;int&gt; | subject &lt;chr&gt; | SampID &lt;chr&gt; | region &lt;chr&gt; | age_death &lt;int&gt; | msex &lt;chr&gt; | pmi &lt;int&gt; | ADdiag2types &lt;chr&gt; | ADdiag3types &lt;chr&gt; | min_frag &lt;dbl&gt; | num_cell &lt;dbl&gt; |\n",
       "|---|---|---|---|---|---|---|---|---|---|---|---|\n",
       "| 1 | 0 | ROSMAP-86126 | D19-122585 | EC | 86 | Male   | 6 | AD    | earlyAD | 1084 | 156 |\n",
       "| 2 | 1 | ROSMAP-50941 | D19-122586 | EC | 89 | Female | 7 | AD    | lateAD  | 1000 | 120 |\n",
       "| 3 | 2 | ROSMAP-32686 | D19-122587 | EC | 80 | Female | 6 | AD    | earlyAD | 1076 | 131 |\n",
       "| 4 | 3 | ROSMAP-67634 | D19-122588 | EC | 92 | Male   | 7 | nonAD | nonAD   | 1351 |  79 |\n",
       "| 5 | 4 | ROSMAP-79151 | D19-122589 | EC | 76 | Male   | 6 | AD    | lateAD  | 1553 |  15 |\n",
       "| 6 | 5 | ROSMAP-52212 | D19-122590 | EC | 88 | Male   | 6 | nonAD | nonAD   | 4138 |   7 |\n",
       "\n"
      ],
      "text/plain": [
       "  X subject      SampID     region age_death msex   pmi ADdiag2types\n",
       "1 0 ROSMAP-86126 D19-122585 EC     86        Male   6   AD          \n",
       "2 1 ROSMAP-50941 D19-122586 EC     89        Female 7   AD          \n",
       "3 2 ROSMAP-32686 D19-122587 EC     80        Female 6   AD          \n",
       "4 3 ROSMAP-67634 D19-122588 EC     92        Male   7   nonAD       \n",
       "5 4 ROSMAP-79151 D19-122589 EC     76        Male   6   AD          \n",
       "6 5 ROSMAP-52212 D19-122590 EC     88        Male   6   nonAD       \n",
       "  ADdiag3types min_frag num_cell\n",
       "1 earlyAD      1084     156     \n",
       "2 lateAD       1000     120     \n",
       "3 earlyAD      1076     131     \n",
       "4 nonAD        1351      79     \n",
       "5 lateAD       1553      15     \n",
       "6 nonAD        4138       7     "
      ]
     },
     "metadata": {},
     "output_type": "display_data"
    }
   ],
   "source": [
    "head(meta)"
   ]
  },
  {
   "cell_type": "code",
   "execution_count": 3,
   "metadata": {
    "metadata": {},
    "vscode": {
     "languageId": "r"
    }
   },
   "outputs": [
    {
     "data": {
      "text/plain": [
       "\n",
       "   AD nonAD \n",
       "  136   154 "
      ]
     },
     "metadata": {},
     "output_type": "display_data"
    }
   ],
   "source": [
    "table(meta$ADdiag2types)"
   ]
  },
  {
   "cell_type": "code",
   "execution_count": 26,
   "metadata": {
    "vscode": {
     "languageId": "r"
    }
   },
   "outputs": [
    {
     "data": {
      "text/html": [
       "<style>\n",
       ".list-inline {list-style: none; margin:0; padding: 0}\n",
       ".list-inline>li {display: inline-block}\n",
       ".list-inline>li:not(:last-child)::after {content: \"\\00b7\"; padding: 0 .5ex}\n",
       "</style>\n",
       "<ol class=list-inline><li>290</li><li>11</li></ol>\n"
      ],
      "text/latex": [
       "\\begin{enumerate*}\n",
       "\\item 290\n",
       "\\item 11\n",
       "\\end{enumerate*}\n"
      ],
      "text/markdown": [
       "1. 290\n",
       "2. 11\n",
       "\n",
       "\n"
      ],
      "text/plain": [
       "[1] 290  11"
      ]
     },
     "metadata": {},
     "output_type": "display_data"
    }
   ],
   "source": [
    "dim(meta)"
   ]
  },
  {
   "cell_type": "code",
   "execution_count": 4,
   "metadata": {
    "metadata": {},
    "vscode": {
     "languageId": "r"
    }
   },
   "outputs": [
    {
     "name": "stdout",
     "output_type": "stream",
     "text": [
      "'data.frame':\t290 obs. of  11 variables:\n",
      " $ X           : int  0 1 2 3 4 5 6 7 8 9 ...\n",
      " $ subject     : chr  \"ROSMAP-86126\" \"ROSMAP-50941\" \"ROSMAP-32686\" \"ROSMAP-67634\" ...\n",
      " $ SampID      : chr  \"D19-122585\" \"D19-122586\" \"D19-122587\" \"D19-122588\" ...\n",
      " $ region      : chr  \"EC\" \"EC\" \"EC\" \"EC\" ...\n",
      " $ age_death   : int  86 89 80 92 76 88 84 77 89 88 ...\n",
      " $ msex        : chr  \"Male\" \"Female\" \"Female\" \"Male\" ...\n",
      " $ pmi         : int  6 7 6 7 6 6 6 6 5 5 ...\n",
      " $ ADdiag2types: chr  \"AD\" \"AD\" \"AD\" \"nonAD\" ...\n",
      " $ ADdiag3types: chr  \"earlyAD\" \"lateAD\" \"earlyAD\" \"nonAD\" ...\n",
      " $ min_frag    : num  1084 1000 1076 1351 1553 ...\n",
      " $ num_cell    : num  156 120 131 79 15 7 4 119 204 182 ...\n"
     ]
    }
   ],
   "source": [
    "str(meta)"
   ]
  },
  {
   "cell_type": "code",
   "execution_count": 5,
   "metadata": {
    "metadata": {},
    "vscode": {
     "languageId": "r"
    }
   },
   "outputs": [
    {
     "data": {
      "text/html": [
       "290"
      ],
      "text/latex": [
       "290"
      ],
      "text/markdown": [
       "290"
      ],
      "text/plain": [
       "[1] 290"
      ]
     },
     "metadata": {},
     "output_type": "display_data"
    }
   ],
   "source": [
    "n_distinct(meta$SampID)"
   ]
  },
  {
   "cell_type": "code",
   "execution_count": 29,
   "metadata": {
    "vscode": {
     "languageId": "r"
    }
   },
   "outputs": [
    {
     "data": {
      "text/html": [
       "<table class=\"dataframe\">\n",
       "<caption>A data.frame: 6 × 11</caption>\n",
       "<thead>\n",
       "\t<tr><th></th><th scope=col>X</th><th scope=col>subject</th><th scope=col>SampID</th><th scope=col>region</th><th scope=col>age_death</th><th scope=col>msex</th><th scope=col>pmi</th><th scope=col>ADdiag2types</th><th scope=col>ADdiag3types</th><th scope=col>min_frag</th><th scope=col>num_cell</th></tr>\n",
       "\t<tr><th></th><th scope=col>&lt;int&gt;</th><th scope=col>&lt;chr&gt;</th><th scope=col>&lt;chr&gt;</th><th scope=col>&lt;chr&gt;</th><th scope=col>&lt;int&gt;</th><th scope=col>&lt;chr&gt;</th><th scope=col>&lt;int&gt;</th><th scope=col>&lt;chr&gt;</th><th scope=col>&lt;chr&gt;</th><th scope=col>&lt;int&gt;</th><th scope=col>&lt;int&gt;</th></tr>\n",
       "</thead>\n",
       "<tbody>\n",
       "\t<tr><th scope=row>1</th><td>0</td><td>ROSMAP-86126</td><td>D19-122585</td><td>EC</td><td>86</td><td>Male  </td><td>6</td><td>AD   </td><td>earlyAD</td><td>1084</td><td>156</td></tr>\n",
       "\t<tr><th scope=row>2</th><td>1</td><td>ROSMAP-50941</td><td>D19-122586</td><td>EC</td><td>89</td><td>Female</td><td>7</td><td>AD   </td><td>lateAD </td><td>1000</td><td>120</td></tr>\n",
       "\t<tr><th scope=row>3</th><td>2</td><td>ROSMAP-32686</td><td>D19-122587</td><td>EC</td><td>80</td><td>Female</td><td>6</td><td>AD   </td><td>earlyAD</td><td>1076</td><td>131</td></tr>\n",
       "\t<tr><th scope=row>4</th><td>3</td><td>ROSMAP-67634</td><td>D19-122588</td><td>EC</td><td>92</td><td>Male  </td><td>7</td><td>nonAD</td><td>nonAD  </td><td>1351</td><td> 79</td></tr>\n",
       "\t<tr><th scope=row>5</th><td>4</td><td>ROSMAP-79151</td><td>D19-122589</td><td>EC</td><td>76</td><td>Male  </td><td>6</td><td>AD   </td><td>lateAD </td><td>1553</td><td> 15</td></tr>\n",
       "\t<tr><th scope=row>6</th><td>5</td><td>ROSMAP-52212</td><td>D19-122590</td><td>EC</td><td>88</td><td>Male  </td><td>6</td><td>nonAD</td><td>nonAD  </td><td>4138</td><td>  7</td></tr>\n",
       "</tbody>\n",
       "</table>\n"
      ],
      "text/latex": [
       "A data.frame: 6 × 11\n",
       "\\begin{tabular}{r|lllllllllll}\n",
       "  & X & subject & SampID & region & age\\_death & msex & pmi & ADdiag2types & ADdiag3types & min\\_frag & num\\_cell\\\\\n",
       "  & <int> & <chr> & <chr> & <chr> & <int> & <chr> & <int> & <chr> & <chr> & <int> & <int>\\\\\n",
       "\\hline\n",
       "\t1 & 0 & ROSMAP-86126 & D19-122585 & EC & 86 & Male   & 6 & AD    & earlyAD & 1084 & 156\\\\\n",
       "\t2 & 1 & ROSMAP-50941 & D19-122586 & EC & 89 & Female & 7 & AD    & lateAD  & 1000 & 120\\\\\n",
       "\t3 & 2 & ROSMAP-32686 & D19-122587 & EC & 80 & Female & 6 & AD    & earlyAD & 1076 & 131\\\\\n",
       "\t4 & 3 & ROSMAP-67634 & D19-122588 & EC & 92 & Male   & 7 & nonAD & nonAD   & 1351 &  79\\\\\n",
       "\t5 & 4 & ROSMAP-79151 & D19-122589 & EC & 76 & Male   & 6 & AD    & lateAD  & 1553 &  15\\\\\n",
       "\t6 & 5 & ROSMAP-52212 & D19-122590 & EC & 88 & Male   & 6 & nonAD & nonAD   & 4138 &   7\\\\\n",
       "\\end{tabular}\n"
      ],
      "text/markdown": [
       "\n",
       "A data.frame: 6 × 11\n",
       "\n",
       "| <!--/--> | X &lt;int&gt; | subject &lt;chr&gt; | SampID &lt;chr&gt; | region &lt;chr&gt; | age_death &lt;int&gt; | msex &lt;chr&gt; | pmi &lt;int&gt; | ADdiag2types &lt;chr&gt; | ADdiag3types &lt;chr&gt; | min_frag &lt;int&gt; | num_cell &lt;int&gt; |\n",
       "|---|---|---|---|---|---|---|---|---|---|---|---|\n",
       "| 1 | 0 | ROSMAP-86126 | D19-122585 | EC | 86 | Male   | 6 | AD    | earlyAD | 1084 | 156 |\n",
       "| 2 | 1 | ROSMAP-50941 | D19-122586 | EC | 89 | Female | 7 | AD    | lateAD  | 1000 | 120 |\n",
       "| 3 | 2 | ROSMAP-32686 | D19-122587 | EC | 80 | Female | 6 | AD    | earlyAD | 1076 | 131 |\n",
       "| 4 | 3 | ROSMAP-67634 | D19-122588 | EC | 92 | Male   | 7 | nonAD | nonAD   | 1351 |  79 |\n",
       "| 5 | 4 | ROSMAP-79151 | D19-122589 | EC | 76 | Male   | 6 | AD    | lateAD  | 1553 |  15 |\n",
       "| 6 | 5 | ROSMAP-52212 | D19-122590 | EC | 88 | Male   | 6 | nonAD | nonAD   | 4138 |   7 |\n",
       "\n"
      ],
      "text/plain": [
       "  X subject      SampID     region age_death msex   pmi ADdiag2types\n",
       "1 0 ROSMAP-86126 D19-122585 EC     86        Male   6   AD          \n",
       "2 1 ROSMAP-50941 D19-122586 EC     89        Female 7   AD          \n",
       "3 2 ROSMAP-32686 D19-122587 EC     80        Female 6   AD          \n",
       "4 3 ROSMAP-67634 D19-122588 EC     92        Male   7   nonAD       \n",
       "5 4 ROSMAP-79151 D19-122589 EC     76        Male   6   AD          \n",
       "6 5 ROSMAP-52212 D19-122590 EC     88        Male   6   nonAD       \n",
       "  ADdiag3types min_frag num_cell\n",
       "1 earlyAD      1084     156     \n",
       "2 lateAD       1000     120     \n",
       "3 earlyAD      1076     131     \n",
       "4 nonAD        1351      79     \n",
       "5 lateAD       1553      15     \n",
       "6 nonAD        4138       7     "
      ]
     },
     "metadata": {},
     "output_type": "display_data"
    }
   ],
   "source": [
    "head(meta)"
   ]
  },
  {
   "cell_type": "markdown",
   "metadata": {},
   "source": [
    "## 3. Significance test"
   ]
  },
  {
   "cell_type": "code",
   "execution_count": 7,
   "metadata": {
    "metadata": {},
    "vscode": {
     "languageId": "r"
    }
   },
   "outputs": [
    {
     "data": {
      "text/html": [
       "<table class=\"dataframe\">\n",
       "<caption>A rstatix_test: 1 × 9</caption>\n",
       "<thead>\n",
       "\t<tr><th scope=col>.y.</th><th scope=col>group1</th><th scope=col>group2</th><th scope=col>n1</th><th scope=col>n2</th><th scope=col>statistic</th><th scope=col>df</th><th scope=col>p</th><th scope=col>p.signif</th></tr>\n",
       "\t<tr><th scope=col>&lt;chr&gt;</th><th scope=col>&lt;chr&gt;</th><th scope=col>&lt;chr&gt;</th><th scope=col>&lt;int&gt;</th><th scope=col>&lt;int&gt;</th><th scope=col>&lt;dbl&gt;</th><th scope=col>&lt;dbl&gt;</th><th scope=col>&lt;dbl&gt;</th><th scope=col>&lt;chr&gt;</th></tr>\n",
       "</thead>\n",
       "<tbody>\n",
       "\t<tr><td>age_death</td><td>AD</td><td>nonAD</td><td>136</td><td>154</td><td>0.6272657</td><td>283.4995</td><td>0.531</td><td>ns</td></tr>\n",
       "</tbody>\n",
       "</table>\n"
      ],
      "text/latex": [
       "A rstatix\\_test: 1 × 9\n",
       "\\begin{tabular}{lllllllll}\n",
       " .y. & group1 & group2 & n1 & n2 & statistic & df & p & p.signif\\\\\n",
       " <chr> & <chr> & <chr> & <int> & <int> & <dbl> & <dbl> & <dbl> & <chr>\\\\\n",
       "\\hline\n",
       "\t age\\_death & AD & nonAD & 136 & 154 & 0.6272657 & 283.4995 & 0.531 & ns\\\\\n",
       "\\end{tabular}\n"
      ],
      "text/markdown": [
       "\n",
       "A rstatix_test: 1 × 9\n",
       "\n",
       "| .y. &lt;chr&gt; | group1 &lt;chr&gt; | group2 &lt;chr&gt; | n1 &lt;int&gt; | n2 &lt;int&gt; | statistic &lt;dbl&gt; | df &lt;dbl&gt; | p &lt;dbl&gt; | p.signif &lt;chr&gt; |\n",
       "|---|---|---|---|---|---|---|---|---|\n",
       "| age_death | AD | nonAD | 136 | 154 | 0.6272657 | 283.4995 | 0.531 | ns |\n",
       "\n"
      ],
      "text/plain": [
       "  .y.       group1 group2 n1  n2  statistic df       p     p.signif\n",
       "t age_death AD     nonAD  136 154 0.6272657 283.4995 0.531 ns      "
      ]
     },
     "metadata": {},
     "output_type": "display_data"
    }
   ],
   "source": [
    "stat.test <- meta %>%\n",
    "  t_test(age_death ~ ADdiag2types) %>%\n",
    "  add_significance()\n",
    "stat.test"
   ]
  },
  {
   "cell_type": "code",
   "execution_count": 8,
   "metadata": {
    "metadata": {},
    "vscode": {
     "languageId": "r"
    }
   },
   "outputs": [
    {
     "data": {
      "image/png": "[encoded data removed]",
      "text/plain": [
       "plot without title"
      ]
     },
     "metadata": {
      "image/png": {
       "height": 420,
       "width": 420
      }
     },
     "output_type": "display_data"
    }
   ],
   "source": [
    "bxp <- ggboxplot(meta, x = \"ADdiag2types\", y = \"age_death\", fill = \"#00AFBB\")\n",
    "stat.test <- stat.test %>% add_xy_position(x = \"ADdiag2types\")\n",
    "bxp + stat_pvalue_manual(\n",
    "  stat.test, label = \"T-test, p = {p}\",\n",
    "  vjust = -1, bracket.nudge.y = 1\n",
    "  ) +\n",
    "  scale_y_continuous(expand = expansion(mult = c(0.05, 0.15)))+\n",
    "  xlab(\"AD\") +  \n",
    "  ylab(\"Age at Death\")  "
   ]
  },
  {
   "cell_type": "code",
   "execution_count": 9,
   "metadata": {
    "metadata": {},
    "vscode": {
     "languageId": "r"
    }
   },
   "outputs": [
    {
     "data": {
      "text/html": [
       "<table class=\"dataframe\">\n",
       "<caption>A rstatix_test: 1 × 9</caption>\n",
       "<thead>\n",
       "\t<tr><th scope=col>.y.</th><th scope=col>group1</th><th scope=col>group2</th><th scope=col>n1</th><th scope=col>n2</th><th scope=col>statistic</th><th scope=col>df</th><th scope=col>p</th><th scope=col>p.signif</th></tr>\n",
       "\t<tr><th scope=col>&lt;chr&gt;</th><th scope=col>&lt;chr&gt;</th><th scope=col>&lt;chr&gt;</th><th scope=col>&lt;int&gt;</th><th scope=col>&lt;int&gt;</th><th scope=col>&lt;dbl&gt;</th><th scope=col>&lt;dbl&gt;</th><th scope=col>&lt;dbl&gt;</th><th scope=col>&lt;chr&gt;</th></tr>\n",
       "</thead>\n",
       "<tbody>\n",
       "\t<tr><td>pmi</td><td>AD</td><td>nonAD</td><td>136</td><td>154</td><td>-0.6403755</td><td>277.5998</td><td>0.522</td><td>ns</td></tr>\n",
       "</tbody>\n",
       "</table>\n"
      ],
      "text/latex": [
       "A rstatix\\_test: 1 × 9\n",
       "\\begin{tabular}{lllllllll}\n",
       " .y. & group1 & group2 & n1 & n2 & statistic & df & p & p.signif\\\\\n",
       " <chr> & <chr> & <chr> & <int> & <int> & <dbl> & <dbl> & <dbl> & <chr>\\\\\n",
       "\\hline\n",
       "\t pmi & AD & nonAD & 136 & 154 & -0.6403755 & 277.5998 & 0.522 & ns\\\\\n",
       "\\end{tabular}\n"
      ],
      "text/markdown": [
       "\n",
       "A rstatix_test: 1 × 9\n",
       "\n",
       "| .y. &lt;chr&gt; | group1 &lt;chr&gt; | group2 &lt;chr&gt; | n1 &lt;int&gt; | n2 &lt;int&gt; | statistic &lt;dbl&gt; | df &lt;dbl&gt; | p &lt;dbl&gt; | p.signif &lt;chr&gt; |\n",
       "|---|---|---|---|---|---|---|---|---|\n",
       "| pmi | AD | nonAD | 136 | 154 | -0.6403755 | 277.5998 | 0.522 | ns |\n",
       "\n"
      ],
      "text/plain": [
       "  .y. group1 group2 n1  n2  statistic  df       p     p.signif\n",
       "t pmi AD     nonAD  136 154 -0.6403755 277.5998 0.522 ns      "
      ]
     },
     "metadata": {},
     "output_type": "display_data"
    },
    {
     "data": {
      "image/png": "[encoded data removed]",
      "text/plain": [
       "plot without title"
      ]
     },
     "metadata": {
      "image/png": {
       "height": 420,
       "width": 420
      }
     },
     "output_type": "display_data"
    }
   ],
   "source": [
    "stat.test <- meta %>%\n",
    "  t_test(pmi ~ ADdiag2types) %>%\n",
    "  add_significance()\n",
    "stat.test\n",
    "bxp <- ggboxplot(meta, x = \"ADdiag2types\", y = \"pmi\", fill = \"#00AFBB\")\n",
    "stat.test <- stat.test %>% add_xy_position(x = \"ADdiag2types\")\n",
    "bxp + stat_pvalue_manual(\n",
    "  stat.test, label = \"T-test, p = {p}\",\n",
    "  vjust = -1, bracket.nudge.y = 1\n",
    "  ) +\n",
    "  scale_y_continuous(expand = expansion(mult = c(0.05, 0.15)))+\n",
    "  xlab(\"AD\") +  \n",
    "  ylab(\"PMI\")  "
   ]
  },
  {
   "cell_type": "code",
   "execution_count": 10,
   "metadata": {
    "metadata": {},
    "vscode": {
     "languageId": "r"
    }
   },
   "outputs": [
    {
     "data": {
      "text/html": [
       "<table class=\"dataframe\">\n",
       "<caption>A rstatix_test: 1 × 9</caption>\n",
       "<thead>\n",
       "\t<tr><th scope=col>.y.</th><th scope=col>group1</th><th scope=col>group2</th><th scope=col>n1</th><th scope=col>n2</th><th scope=col>statistic</th><th scope=col>df</th><th scope=col>p</th><th scope=col>p.signif</th></tr>\n",
       "\t<tr><th scope=col>&lt;chr&gt;</th><th scope=col>&lt;chr&gt;</th><th scope=col>&lt;chr&gt;</th><th scope=col>&lt;int&gt;</th><th scope=col>&lt;int&gt;</th><th scope=col>&lt;dbl&gt;</th><th scope=col>&lt;dbl&gt;</th><th scope=col>&lt;dbl&gt;</th><th scope=col>&lt;chr&gt;</th></tr>\n",
       "</thead>\n",
       "<tbody>\n",
       "\t<tr><td>min_frag</td><td>AD</td><td>nonAD</td><td>136</td><td>154</td><td>1.363083</td><td>214.5577</td><td>0.174</td><td>ns</td></tr>\n",
       "</tbody>\n",
       "</table>\n"
      ],
      "text/latex": [
       "A rstatix\\_test: 1 × 9\n",
       "\\begin{tabular}{lllllllll}\n",
       " .y. & group1 & group2 & n1 & n2 & statistic & df & p & p.signif\\\\\n",
       " <chr> & <chr> & <chr> & <int> & <int> & <dbl> & <dbl> & <dbl> & <chr>\\\\\n",
       "\\hline\n",
       "\t min\\_frag & AD & nonAD & 136 & 154 & 1.363083 & 214.5577 & 0.174 & ns\\\\\n",
       "\\end{tabular}\n"
      ],
      "text/markdown": [
       "\n",
       "A rstatix_test: 1 × 9\n",
       "\n",
       "| .y. &lt;chr&gt; | group1 &lt;chr&gt; | group2 &lt;chr&gt; | n1 &lt;int&gt; | n2 &lt;int&gt; | statistic &lt;dbl&gt; | df &lt;dbl&gt; | p &lt;dbl&gt; | p.signif &lt;chr&gt; |\n",
       "|---|---|---|---|---|---|---|---|---|\n",
       "| min_frag | AD | nonAD | 136 | 154 | 1.363083 | 214.5577 | 0.174 | ns |\n",
       "\n"
      ],
      "text/plain": [
       "  .y.      group1 group2 n1  n2  statistic df       p     p.signif\n",
       "t min_frag AD     nonAD  136 154 1.363083  214.5577 0.174 ns      "
      ]
     },
     "metadata": {},
     "output_type": "display_data"
    },
    {
     "data": {
      "image/png": "[encoded data removed]",
      "text/plain": [
       "plot without title"
      ]
     },
     "metadata": {
      "image/png": {
       "height": 420,
       "width": 420
      }
     },
     "output_type": "display_data"
    }
   ],
   "source": [
    "stat.test <- meta %>%\n",
    "  t_test(min_frag ~ ADdiag2types) %>%\n",
    "  add_significance()\n",
    "stat.test\n",
    "bxp <- ggboxplot(meta, x = \"ADdiag2types\", y = \"min_frag\", fill = \"#00AFBB\")\n",
    "stat.test <- stat.test %>% add_xy_position(x = \"ADdiag2types\")\n",
    "bxp + stat_pvalue_manual(\n",
    "  stat.test, label = \"T-test, p = {p}\",\n",
    "  vjust = -1, bracket.nudge.y = 1\n",
    "  ) +\n",
    "  scale_y_continuous(expand = expansion(mult = c(0.05, 0.15)))+\n",
    "  xlab(\"AD\") +  \n",
    "  ylab(\"Minimum number of fragments\")  "
   ]
  },
  {
   "cell_type": "code",
   "execution_count": 11,
   "metadata": {
    "metadata": {},
    "vscode": {
     "languageId": "r"
    }
   },
   "outputs": [
    {
     "data": {
      "text/html": [
       "<table class=\"dataframe\">\n",
       "<caption>A rstatix_test: 1 × 9</caption>\n",
       "<thead>\n",
       "\t<tr><th scope=col>.y.</th><th scope=col>group1</th><th scope=col>group2</th><th scope=col>n1</th><th scope=col>n2</th><th scope=col>statistic</th><th scope=col>df</th><th scope=col>p</th><th scope=col>p.signif</th></tr>\n",
       "\t<tr><th scope=col>&lt;chr&gt;</th><th scope=col>&lt;chr&gt;</th><th scope=col>&lt;chr&gt;</th><th scope=col>&lt;int&gt;</th><th scope=col>&lt;int&gt;</th><th scope=col>&lt;dbl&gt;</th><th scope=col>&lt;dbl&gt;</th><th scope=col>&lt;dbl&gt;</th><th scope=col>&lt;chr&gt;</th></tr>\n",
       "</thead>\n",
       "<tbody>\n",
       "\t<tr><td>num_cell</td><td>AD</td><td>nonAD</td><td>136</td><td>154</td><td>-2.223462</td><td>274.4195</td><td>0.027</td><td>*</td></tr>\n",
       "</tbody>\n",
       "</table>\n"
      ],
      "text/latex": [
       "A rstatix\\_test: 1 × 9\n",
       "\\begin{tabular}{lllllllll}\n",
       " .y. & group1 & group2 & n1 & n2 & statistic & df & p & p.signif\\\\\n",
       " <chr> & <chr> & <chr> & <int> & <int> & <dbl> & <dbl> & <dbl> & <chr>\\\\\n",
       "\\hline\n",
       "\t num\\_cell & AD & nonAD & 136 & 154 & -2.223462 & 274.4195 & 0.027 & *\\\\\n",
       "\\end{tabular}\n"
      ],
      "text/markdown": [
       "\n",
       "A rstatix_test: 1 × 9\n",
       "\n",
       "| .y. &lt;chr&gt; | group1 &lt;chr&gt; | group2 &lt;chr&gt; | n1 &lt;int&gt; | n2 &lt;int&gt; | statistic &lt;dbl&gt; | df &lt;dbl&gt; | p &lt;dbl&gt; | p.signif &lt;chr&gt; |\n",
       "|---|---|---|---|---|---|---|---|---|\n",
       "| num_cell | AD | nonAD | 136 | 154 | -2.223462 | 274.4195 | 0.027 | * |\n",
       "\n"
      ],
      "text/plain": [
       "  .y.      group1 group2 n1  n2  statistic df       p     p.signif\n",
       "t num_cell AD     nonAD  136 154 -2.223462 274.4195 0.027 *       "
      ]
     },
     "metadata": {},
     "output_type": "display_data"
    },
    {
     "data": {
      "image/png": "[encoded data removed]",
      "text/plain": [
       "plot without title"
      ]
     },
     "metadata": {
      "image/png": {
       "height": 420,
       "width": 420
      }
     },
     "output_type": "display_data"
    }
   ],
   "source": [
    "stat.test <- meta %>%\n",
    "  t_test(num_cell ~ ADdiag2types) %>%\n",
    "  add_significance()\n",
    "stat.test\n",
    "bxp <- ggboxplot(meta, x = \"ADdiag2types\", y = \"num_cell\", fill = \"#00AFBB\")\n",
    "stat.test <- stat.test %>% add_xy_position(x = \"ADdiag2types\")\n",
    "bxp + stat_pvalue_manual(\n",
    "  stat.test, label = \"T-test, p = {p}\",\n",
    "  vjust = -1, bracket.nudge.y = 1\n",
    "  ) +\n",
    "  scale_y_continuous(expand = expansion(mult = c(0.05, 0.15)))+\n",
    "  xlab(\"AD\") +  \n",
    "  ylab(\"Number of nuclei\")  "
   ]
  },
  {
   "cell_type": "code",
   "execution_count": 12,
   "metadata": {
    "metadata": {},
    "vscode": {
     "languageId": "r"
    }
   },
   "outputs": [],
   "source": [
    "table<-table(meta$ADdiag2types, meta$region)"
   ]
  },
  {
   "cell_type": "code",
   "execution_count": 13,
   "metadata": {
    "metadata": {},
    "vscode": {
     "languageId": "r"
    }
   },
   "outputs": [
    {
     "data": {
      "text/plain": [
       "       \n",
       "        AG EC HC MTC PFC TH\n",
       "  AD    22 21  8  17  46 22\n",
       "  nonAD 25 25  8  23  47 26"
      ]
     },
     "metadata": {},
     "output_type": "display_data"
    }
   ],
   "source": [
    "table"
   ]
  },
  {
   "cell_type": "code",
   "execution_count": 14,
   "metadata": {
    "metadata": {},
    "vscode": {
     "languageId": "r"
    }
   },
   "outputs": [],
   "source": [
    "gender<-table(meta$msex, meta$ADdiag2types)"
   ]
  },
  {
   "cell_type": "code",
   "execution_count": 15,
   "metadata": {
    "metadata": {},
    "vscode": {
     "languageId": "r"
    }
   },
   "outputs": [
    {
     "data": {
      "text/plain": [
       "\n",
       "\tPearson's Chi-squared test with Yates' continuity correction\n",
       "\n",
       "data:  gender\n",
       "X-squared = 0.67848, df = 1, p-value = 0.4101\n"
      ]
     },
     "metadata": {},
     "output_type": "display_data"
    }
   ],
   "source": [
    "chisq.test(gender)"
   ]
  }
 ],
 "metadata": {
  "kernelspec": {
   "display_name": "R",
   "language": "R",
   "name": "ir"
  },
  "language_info": {
   "codemirror_mode": "r",
   "file_extension": ".r",
   "mimetype": "text/x-r-source",
   "name": "R",
   "pygments_lexer": "r",
   "version": "4.3.2"
  }
 },
 "nbformat": 4,
 "nbformat_minor": 2
}
